{
 "cells": [
  {
   "cell_type": "markdown",
   "metadata": {},
   "source": [
    "# MAC0417/5768 - Visão e Processamento de Imagens (2021)\n",
    "\n",
    "Exercício Programa 2.2 - Normalização e análise da variação das classes\n",
    "\n",
    "Gabriela Melo e Richard Block"
   ]
  },
  {
   "cell_type": "code",
   "execution_count": 19,
   "metadata": {},
   "outputs": [],
   "source": [
    "import skimage\n",
    "from skimage import io\n",
    "from skimage import color\n",
    "from skimage import exposure\n",
    "import matplotlib.pyplot as plt\n",
    "import numpy as np\n",
    "from glob import glob\n",
    "import os"
   ]
  },
  {
   "cell_type": "markdown",
   "metadata": {},
   "source": [
    "Deve-se criar um JN que realize a normalização das imagens de cada classe do augmentedDataSet. Deve-se usar a equalização de histogramas como função inicial de normalização, gerando um normalizedDataset. As funções de análise de cada classe abaixo devem ser aplicadas ao originalGrayDataset, augmentedDataset e normalizedDataset. Assim, esse JN deve calcular e mostrar para cada dataset:\n",
    "\n",
    "    Protótipo médio de cada classe\n",
    "    Histograma médio de cada classe\n",
    "    Variância do histograma de cada classe"
   ]
  },
  {
   "cell_type": "code",
   "execution_count": 20,
   "metadata": {},
   "outputs": [],
   "source": [
    "# criar diretórios para o dataset normalizado\n",
    "os.mkdir(\"/Users/gabimelo/Desktop/EP2/normalizedDataset\")"
   ]
  },
  {
   "cell_type": "code",
   "execution_count": 21,
   "metadata": {},
   "outputs": [
    {
     "name": "stdout",
     "output_type": "stream",
     "text": [
      "/Users/gabimelo/Desktop/EP2/augmentedDataSet/leite_2_noite_fora_palha_2_log.npy\n",
      "leite_2_noite_fora_palha_2_log_norm.npy\n",
      "/Users/gabimelo/Desktop/EP2/augmentedDataSet/tesoura_3_noite_dentro_verde_3_gradient.npy\n",
      "tesoura_3_noite_dentro_verde_3_gradient_norm.npy\n"
     ]
    }
   ],
   "source": [
    "for path in glob(\"/Users/gabimelo/Desktop/EP2/augmentedDataSet/*.npy\")[:2]:\n",
    "    \n",
    "    print(path)\n",
    "    \n",
    "    # carregar imagem do augmentedDataSet\n",
    "    img = np.load(path)\n",
    "    \n",
    "    # aplicar equalização do histograma da imagem\n",
    "    img_eqhist = exposure.equalize_hist(img, nbins=256)\n",
    "    \n",
    "    # definir novo nome da imagem normalizada\n",
    "    nome_antigo = path.split(\"/\")[-1].replace(\".npy\",\"\")\n",
    "    norm_name = nome_antigo + \"_\" + \"norm\" + \".npy\"\n",
    "    print(norm_name)\n",
    "\n",
    "    # salvar imagem no normalizedDataset\n",
    "    np.save(\"/Users/gabimelo/Desktop/EP2/normalizedDataset/\" + norm_name, img_eqhist)"
   ]
  },
  {
   "cell_type": "code",
   "execution_count": null,
   "metadata": {},
   "outputs": [],
   "source": []
  }
 ],
 "metadata": {
  "hide_input": false,
  "kernelspec": {
   "display_name": "Python 3",
   "language": "python",
   "name": "python3"
  },
  "language_info": {
   "codemirror_mode": {
    "name": "ipython",
    "version": 3
   },
   "file_extension": ".py",
   "mimetype": "text/x-python",
   "name": "python",
   "nbconvert_exporter": "python",
   "pygments_lexer": "ipython3",
   "version": "3.8.5"
  }
 },
 "nbformat": 4,
 "nbformat_minor": 4
}
