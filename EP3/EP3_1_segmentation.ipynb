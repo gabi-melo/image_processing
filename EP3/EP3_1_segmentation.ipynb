{
  "nbformat": 4,
  "nbformat_minor": 5,
  "metadata": {
    "kernelspec": {
      "display_name": "Python 3",
      "language": "python",
      "name": "python3"
    },
    "language_info": {
      "codemirror_mode": {
        "name": "ipython",
        "version": 3
      },
      "file_extension": ".py",
      "mimetype": "text/x-python",
      "name": "python",
      "nbconvert_exporter": "python",
      "pygments_lexer": "ipython3",
      "version": "3.8.8"
    },
    "colab": {
      "name": "EP3.1_segmentation.ipynb",
      "provenance": [],
      "collapsed_sections": []
    }
  },
  "cells": [
    {
      "cell_type": "markdown",
      "metadata": {
        "id": "Jw-t6rG1kNdM"
      },
      "source": [
        "# GABARITO"
      ],
      "id": "Jw-t6rG1kNdM"
    },
    {
      "cell_type": "markdown",
      "metadata": {
        "id": "qJIK_nD7kUPX"
      },
      "source": [
        "-----------PARTE I (3/3)----------------\n",
        "\n",
        "    Segmentação binária manual de 15% \n",
        "    Segmentação binária automática de todas as imagens. \n",
        "    Feret Box/ Blob das imagens segmentadas manualmente. \n",
        "    Feret Box/ Blob das imagens segmentadas automaticamente. \n",
        "\n",
        "-----------PARTE II (3/3)--------------\n",
        "\n",
        "    Extração das features. \n",
        "    PCA das features.\n",
        "    Classificação.\n",
        "\n",
        "-----------PARTE III (2/2)-------------\n",
        "\n",
        "    Cálculo das métricas de segmentação. \n",
        "    Cálculo das métricas de classificação.\n",
        "    Relatório. \n",
        "\n",
        "-----------PARTE IV (2/2)--------------\n",
        "\n",
        "    Breve introdução\n",
        "    Separar em tóp.\n",
        "    Git hub (atualizar o git com o ep3)\n",
        "    Cabeçalho dos int\n",
        "    Comentar cód.\n",
        "    Organização do código e notebook \n",
        "    Read-me (pode ser o read-me do git atualizado)\n",
        "\n",
        "NOTA (10/10)"
      ],
      "id": "qJIK_nD7kUPX"
    },
    {
      "cell_type": "markdown",
      "metadata": {
        "id": "7mTzQJGJnHP_"
      },
      "source": [
        "# MAC0417/5768 - Visão e Processamento de Imagens (2021)\n",
        "\n",
        "Exercício Programa 3.1 - Segmentação de imagens\n",
        "\n",
        "Gabriela Melo e Richard Block\n",
        "\n",
        "Projeto GitHub: https://github.com/gabi-melo/image_processing/tree/main/EP3\n",
        "\n",
        "Base de imagens: https://www.kaggle.com/gabrielamelo/image-processing\n"
      ],
      "id": "7mTzQJGJnHP_"
    },
    {
      "cell_type": "markdown",
      "metadata": {
        "id": "e5PdpfHenjKD"
      },
      "source": [
        "# Resumo\n",
        "\n",
        "Na primeira parte do EP realizamos a segmentação das imagens em níveis de cinza do dataset gerado no EP2. Duas formas de segmentação foram aplicadas: manual e automática. \n",
        "\n",
        "Para a segmentação manual, utilizamos cerca de 15% das imagens em níveis de cinza de cada classe de objetos. Foi empregado o programa Label Studio para a segmentação semântica com máscaras. A segmentação manual gerou imagens binárias, em que o valor de 0 corresponde ao fundo e o valor de 1 corresponde ao objeto, compondo o \"ground truth\" do dataset. Essas imagens binárias foram processadas utilizando um Feret Box para delimitar a área de interesse, fazendo com que a região a ser analisada na etapa de classificação (EP3.2) esteja restrita ao objeto, auxiliando a localização do objeto pelo algoritmo classificador.\n",
        "\n",
        "Para a segmentação automática usamos um método chamado U square Net, baseado numa arquitetura de rede profunda (disponível em https://arxiv.org/pdf/2005.09007.pdf). Métricas para a avaliação do modelo de segmentação foram computadas.\n",
        "\n"
      ],
      "id": "e5PdpfHenjKD"
    },
    {
      "cell_type": "markdown",
      "metadata": {
        "id": "dza7XvA-w20E"
      },
      "source": [
        "# Download do Kaggle dataset"
      ],
      "id": "dza7XvA-w20E"
    },
    {
      "cell_type": "code",
      "metadata": {
        "colab": {
          "base_uri": "https://localhost:8080/"
        },
        "id": "9cyUtaynvT9M",
        "outputId": "5f5eb612-7170-49a9-ebe6-95dc5544ab2c"
      },
      "source": [
        "zfrom glob import glob \n",
        "\n",
        "from google.colab import drive\n",
        "drive.mount('/content/gdrive')"
      ],
      "id": "9cyUtaynvT9M",
      "execution_count": 1,
      "outputs": [
        {
          "output_type": "stream",
          "text": [
            "Mounted at /content/gdrive\n"
          ],
          "name": "stdout"
        }
      ]
    },
    {
      "cell_type": "code",
      "metadata": {
        "id": "Icol7d7hv1-P"
      },
      "source": [
        "import os\n",
        "os.environ['KAGGLE_CONFIG_DIR'] = \"/content/gdrive/My Drive/Kaggle\"\n",
        "\n",
        "# /content/gdrive/My Drive/Kaggle is the path where kaggle.json is present in the Google Drive"
      ],
      "id": "Icol7d7hv1-P",
      "execution_count": 2,
      "outputs": []
    },
    {
      "cell_type": "code",
      "metadata": {
        "colab": {
          "base_uri": "https://localhost:8080/"
        },
        "id": "PN2Cq8blv7dD",
        "outputId": "9d686729-d1ca-43fd-c438-31c4e6a417b3"
      },
      "source": [
        "# changing the working directory\n",
        "%cd /content/gdrive/My Drive/Kaggle"
      ],
      "id": "PN2Cq8blv7dD",
      "execution_count": 3,
      "outputs": [
        {
          "output_type": "stream",
          "text": [
            "/content/gdrive/My Drive/Kaggle\n"
          ],
          "name": "stdout"
        }
      ]
    },
    {
      "cell_type": "code",
      "metadata": {
        "colab": {
          "base_uri": "https://localhost:8080/"
        },
        "id": "hV1VeC5ZwLTY",
        "outputId": "68ffb693-93f2-4e39-f8f1-3be435df5f27"
      },
      "source": [
        "!kaggle datasets download -d gabrielamelo/image-processing"
      ],
      "id": "hV1VeC5ZwLTY",
      "execution_count": 4,
      "outputs": [
        {
          "output_type": "stream",
          "text": [
            "Downloading image-processing.zip to /content/gdrive/My Drive/Kaggle\n",
            "100% 1.93G/1.93G [00:20<00:00, 39.9MB/s]\n",
            "100% 1.93G/1.93G [00:20<00:00, 101MB/s] \n"
          ],
          "name": "stdout"
        }
      ]
    },
    {
      "cell_type": "code",
      "metadata": {
        "colab": {
          "base_uri": "https://localhost:8080/"
        },
        "id": "XaW0DCAtwWmp",
        "outputId": "0e2bae23-1431-442f-80b7-75f82622fd92"
      },
      "source": [
        "# check content\n",
        "!ls"
      ],
      "id": "XaW0DCAtwWmp",
      "execution_count": 11,
      "outputs": [
        {
          "output_type": "stream",
          "text": [
            "augmentedDataset  ground_truth\tnormalizedDataset\n",
            "dataset\t\t  kaggle.json\toriginalGrayDataset\n"
          ],
          "name": "stdout"
        }
      ]
    },
    {
      "cell_type": "code",
      "metadata": {
        "id": "KpC6q0Vfwe_Z"
      },
      "source": [
        "# unzipping the zip files and deleting the zip files\n",
        "!unzip \\*.zip  && rm *.zip"
      ],
      "id": "KpC6q0Vfwe_Z",
      "execution_count": null,
      "outputs": []
    },
    {
      "cell_type": "code",
      "metadata": {
        "colab": {
          "base_uri": "https://localhost:8080/"
        },
        "id": "VOKEWw_iXQ5Z",
        "outputId": "c51da9dc-0fb0-42c8-d358-e848cd41c154"
      },
      "source": [
        "ls '/content/gdrive/My Drive/Kaggle/'"
      ],
      "id": "VOKEWw_iXQ5Z",
      "execution_count": 13,
      "outputs": [
        {
          "output_type": "stream",
          "text": [
            "\u001b[0m\u001b[01;34maugmentedDataset\u001b[0m/  \u001b[01;34mground_truth\u001b[0m/  \u001b[01;34mnormalizedDataset\u001b[0m/\n",
            "\u001b[01;34mdataset\u001b[0m/           kaggle.json    \u001b[01;34moriginalGrayDataset\u001b[0m/\n"
          ],
          "name": "stdout"
        }
      ]
    },
    {
      "cell_type": "code",
      "metadata": {
        "id": "5-cAEl2pzPrz"
      },
      "source": [
        "for path in glob('./originalGrayDataset/originalGrayDataset/*.jpg'):\n",
        "    print(path)\n",
        "\n",
        "# print(glob('/content/gdrive/My Drive/Kaggle/originalGrayDataset/originalGrayDataset/*.jpg'))"
      ],
      "id": "5-cAEl2pzPrz",
      "execution_count": null,
      "outputs": []
    },
    {
      "cell_type": "markdown",
      "metadata": {
        "id": "rZr-GNnio_ct"
      },
      "source": [
        "# Segmentação manual"
      ],
      "id": "rZr-GNnio_ct"
    },
    {
      "cell_type": "code",
      "metadata": {
        "id": "vgShM9KxkguN"
      },
      "source": [
        "for path in glob('./ground_truth/ground_truth/*.npy'):\n",
        "    print(path)"
      ],
      "id": "vgShM9KxkguN",
      "execution_count": null,
      "outputs": []
    },
    {
      "cell_type": "markdown",
      "metadata": {
        "id": "vdYuMsfDo7Ha"
      },
      "source": [
        "# Segmentação automáitica"
      ],
      "id": "vdYuMsfDo7Ha"
    }
  ]
}