{
  "nbformat": 4,
  "nbformat_minor": 0,
  "metadata": {
    "colab": {
      "name": "boundingRect.ipynb",
      "provenance": [],
      "collapsed_sections": []
    },
    "kernelspec": {
      "name": "python3",
      "display_name": "Python 3"
    },
    "language_info": {
      "name": "python"
    }
  },
  "cells": [
    {
      "cell_type": "code",
      "metadata": {
        "colab": {
          "base_uri": "https://localhost:8080/"
        },
        "id": "X1WK4HzVWlsd",
        "outputId": "cc586f4a-8416-454a-be7c-cdbbf3c58559"
      },
      "source": [
        "from google.colab import drive\n",
        "drive.mount('/content/drive')"
      ],
      "execution_count": 24,
      "outputs": [
        {
          "output_type": "stream",
          "text": [
            "Drive already mounted at /content/drive; to attempt to forcibly remount, call drive.mount(\"/content/drive\", force_remount=True).\n"
          ],
          "name": "stdout"
        }
      ]
    },
    {
      "cell_type": "code",
      "metadata": {
        "colab": {
          "base_uri": "https://localhost:8080/"
        },
        "id": "vL1g4styW59_",
        "outputId": "bebe8176-10b7-425d-97b3-02854bc2295d"
      },
      "source": [
        "%cd /content/drive/My\\ Drive/kaggle/masks"
      ],
      "execution_count": 26,
      "outputs": [
        {
          "output_type": "stream",
          "text": [
            "/content/drive/My Drive/kaggle/masks\n"
          ],
          "name": "stdout"
        }
      ]
    },
    {
      "cell_type": "code",
      "metadata": {
        "id": "hsL8U5gIV7-5"
      },
      "source": [
        "import cv2\n",
        "from skimage import io\n",
        "import matplotlib.pyplot as plt\n",
        "import os"
      ],
      "execution_count": 27,
      "outputs": []
    },
    {
      "cell_type": "code",
      "metadata": {
        "id": "HKpr89umXOhd"
      },
      "source": [
        "file = 'caneta_1_dia_dentro_madeira_1_conv.jpg'\n",
        "img = cv2.imread(file, 0)"
      ],
      "execution_count": 28,
      "outputs": []
    },
    {
      "cell_type": "code",
      "metadata": {
        "id": "CN-jPoY0aDui"
      },
      "source": [
        "ret, thresh = cv2.threshold(img, 127, 255, 0)\n",
        "contours, _ = cv2.findContours(thresh.copy(), cv2.RETR_EXTERNAL, cv2.CHAIN_APPROX_SIMPLE)"
      ],
      "execution_count": 29,
      "outputs": []
    },
    {
      "cell_type": "code",
      "metadata": {
        "id": "dBDlsly4bbMr"
      },
      "source": [
        "cnt = contours[0]"
      ],
      "execution_count": 30,
      "outputs": []
    },
    {
      "cell_type": "code",
      "metadata": {
        "colab": {
          "base_uri": "https://localhost:8080/"
        },
        "id": "rfNjD1dRYBpB",
        "outputId": "b81f9da0-4b5c-4087-dca7-4dcdf5db3ec3"
      },
      "source": [
        "x, y, w, h = cv2.boundingRect(cnt)\n",
        "cv2.rectangle(img, (x,y), (x+w, y+h), (0,255,0), 2)"
      ],
      "execution_count": 31,
      "outputs": [
        {
          "output_type": "execute_result",
          "data": {
            "text/plain": [
              "array([[0, 0, 0, ..., 0, 0, 0],\n",
              "       [0, 0, 0, ..., 0, 0, 0],\n",
              "       [0, 0, 0, ..., 0, 0, 0],\n",
              "       ...,\n",
              "       [0, 0, 0, ..., 0, 0, 0],\n",
              "       [0, 0, 0, ..., 0, 0, 0],\n",
              "       [0, 0, 0, ..., 0, 0, 0]], dtype=uint8)"
            ]
          },
          "metadata": {
            "tags": []
          },
          "execution_count": 31
        }
      ]
    },
    {
      "cell_type": "code",
      "metadata": {
        "colab": {
          "base_uri": "https://localhost:8080/"
        },
        "id": "sIWg2DEXgZNV",
        "outputId": "74a41127-badd-47b8-854a-f18fbaddb613"
      },
      "source": [
        "%cd /content/drive/My\\ Drive/kaggle/augmentedDataset"
      ],
      "execution_count": 32,
      "outputs": [
        {
          "output_type": "stream",
          "text": [
            "/content/drive/My Drive/kaggle/augmentedDataset\n"
          ],
          "name": "stdout"
        }
      ]
    },
    {
      "cell_type": "code",
      "metadata": {
        "id": "C7iIwCOehApQ"
      },
      "source": [
        "file_orig = 'caneta_1_dia_dentro_madeira_1_conv.jpg'\n",
        "img_orig = cv2.imread(file_orig, 0)"
      ],
      "execution_count": 33,
      "outputs": []
    },
    {
      "cell_type": "code",
      "metadata": {
        "id": "6iVcotsGcxeo"
      },
      "source": [
        "img_orig_cropped = img_orig[y-2:y+h+2, x-2:x+w+2]"
      ],
      "execution_count": 34,
      "outputs": []
    },
    {
      "cell_type": "code",
      "metadata": {
        "colab": {
          "base_uri": "https://localhost:8080/",
          "height": 287
        },
        "id": "ebK8dQxgdRZD",
        "outputId": "79e2d6fe-41e0-49db-a17c-e03828de8f86"
      },
      "source": [
        "plt.imshow(img_orig_cropped, cmap=plt.get_cmap('gray'))"
      ],
      "execution_count": 36,
      "outputs": [
        {
          "output_type": "execute_result",
          "data": {
            "text/plain": [
              "<matplotlib.image.AxesImage at 0x7fb9c9173550>"
            ]
          },
          "metadata": {
            "tags": []
          },
          "execution_count": 36
        },
        {
          "output_type": "display_data",
          "data": {
            "image/png": "[encoded data removed]",
            "text/plain": [
              "<Figure size 432x288 with 1 Axes>"
            ]
          },
          "metadata": {
            "tags": [],
            "needs_background": "light"
          }
        }
      ]
    }
  ]
}