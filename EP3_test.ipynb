{
 "cells": [
  {
   "cell_type": "markdown",
   "metadata": {},
   "source": [
    "# 3.1"
   ]
  },
  {
   "cell_type": "markdown",
   "metadata": {},
   "source": [
    "# Segmentação Manual"
   ]
  },
  {
   "cell_type": "markdown",
   "metadata": {},
   "source": [
    "# Segmentação Automática:\n",
    "Vamos usar um método chamado U square Net, baseado numa arquitetura de rede produnda, disponível em https://arxiv.org/pdf/2005.09007.pdf.\n",
    "Realizamos o processamento das imagens no Google Colab."
   ]
  },
  {
   "cell_type": "markdown",
   "metadata": {},
   "source": [
    "https://colab.research.google.com/drive/1BDj3eZWL4I-8QtkxAAZxF8in35fvR_xU?usp=sharing"
   ]
  },
  {
   "cell_type": "markdown",
   "metadata": {},
   "source": [
    "# Gabi, veja por favor uma coisa.\n",
    "Nesse Colab tem uma seção mais pro fim chamada #load test image. Ele carrega uma imagem da internet no espaço do Colab, ela não é baixada no nosso computador nem no Drive, fica no diretório raiz ./\n",
    "Quando ele vai fazer uso da imagem, ele chama img_name_list = glob.glob('./*.jpg') no qual, pelo que entendi, pega todas imagens .jpg no diretório raiz pra usar e processar, e faz uma lista.\n",
    "Como nossas imagens tão no Kaggle, eu descobri que dá pra usar direto de lá, mas não consegui testar porque precisa do nome de usuário e coisas do tipo, vou colocar aqui e você testa por favor? Se der mesmo, acho que facilita bastante, o que acha?"
   ]
  },
  {
   "cell_type": "markdown",
   "metadata": {},
   "source": [
    "https://medium.com/analytics-vidhya/how-to-fetch-kaggle-datasets-into-google-colab-ea682569851a"
   ]
  },
  {
   "cell_type": "markdown",
   "metadata": {},
   "source": [
    "Agora temos as imgs e as máscaras binárias: preto background e objetos brancos.\n",
    "**TODO**: Precisamos descobrir como cortar os objetos das imagens originais usando essa máscara, pra usar na parte de classificação."
   ]
  },
  {
   "cell_type": "markdown",
   "metadata": {},
   "source": [
    "# 3.2"
   ]
  },
  {
   "cell_type": "markdown",
   "metadata": {},
   "source": [
    "# Classificação usando Eigenfaces e SVM"
   ]
  },
  {
   "cell_type": "code",
   "execution_count": null,
   "metadata": {},
   "outputs": [],
   "source": []
  }
 ],
 "metadata": {
  "hide_input": false,
  "kernelspec": {
   "display_name": "Python 3",
   "language": "python",
   "name": "python3"
  },
  "language_info": {
   "codemirror_mode": {
    "name": "ipython",
    "version": 3
   },
   "file_extension": ".py",
   "mimetype": "text/x-python",
   "name": "python",
   "nbconvert_exporter": "python",
   "pygments_lexer": "ipython3",
   "version": "3.8.5"
  }
 },
 "nbformat": 4,
 "nbformat_minor": 5
}
