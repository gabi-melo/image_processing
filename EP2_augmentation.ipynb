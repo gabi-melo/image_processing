{
 "cells": [
  {
   "cell_type": "markdown",
   "id": "8e7e4401",
   "metadata": {},
   "source": [
    "# MAC0417/5768 - Visão e Processamento de Imagens (2021)\n",
    "\n",
    "Exercício Programa 2.1 - Data augmentation\n",
    "\n",
    "Gabriela Melo e Richard Block"
   ]
  },
  {
   "cell_type": "code",
   "execution_count": 1,
   "id": "1698afc8",
   "metadata": {},
   "outputs": [],
   "source": [
    "import skimage\n",
    "from skimage import io\n",
    "from skimage import color\n",
    "from skimage import exposure\n",
    "import matplotlib.pyplot as plt\n",
    "import numpy as np\n",
    "from glob import glob\n",
    "import os"
   ]
  },
  {
   "cell_type": "code",
   "execution_count": 6,
   "id": "66dfc230",
   "metadata": {},
   "outputs": [],
   "source": [
    "# criar diretórios para os novos datasets\n",
    "os.mkdir(\"/Users/gabimelo/Desktop/EP2/originalGrayDataset\")\n",
    "os.mkdir(\"/Users/gabimelo/Desktop/EP2/augmentedDataset\")"
   ]
  },
  {
   "cell_type": "code",
   "execution_count": 8,
   "id": "4260b180",
   "metadata": {},
   "outputs": [],
   "source": [
    "# criar função para soma de fundo com gradiente de níveis de cinza\n",
    "def add_gradient_exposure(imgarr):\n",
    "    x = np.linspace(0, 1, imgarr.shape[0]) #cria os valores do gradiente\n",
    "    grad = np.tile(x, (imgarr.shape[1], 1)).T #replica os valores verticalmente no mesmo tamanho do input 'imgarr'\n",
    "    return imgarr + grad\n",
    "\n",
    "func_dict = {\n",
    "    \"gradient\": add_gradient_exposure, # soma de fundo com gradiente de níveis de cinza\n",
    "    \"log\": exposure.adjust_log, # logaritmo da imagem\n",
    "    \"gamma\": lambda imgarr: exposure.adjust_gamma(imgarr, 2) # exponencial da imagem\n",
    "    # [add] filtro da média implementado usando convolução\n",
    "}"
   ]
  },
  {
   "cell_type": "markdown",
   "id": "410cc483",
   "metadata": {},
   "source": [
    "**Explicações e comentários sobre as funções:**\n",
    "\n",
    "1. **RGB2Gray**:\n",
    "    Soma os três canais de cor, vermelho, verde e azul, com pesos para cada canal que aproximam a percepção humana de cores: output = 0.2125R + 0.7154G + 0.0721B. Ao final temos um array no qual cada valor representa uma intensidade na escala de cinza.\n",
    "    \n",
    "2. **Soma de Fundo com gradiente de níveis de cinza**:\n",
    "    Essa função cria variações na iluminação da imagem, de acordo com o gradiente escolhido. Optamos por um gradiente vertical que vai do preto ao branco.\n",
    "    \n",
    "3. **Logaritmo da imagem**:\n",
    "    Reescala os valores da imagem para o intervalo [0, 1]. Em seguida aplica-se a função output = gain\\*log(1+ input). A função log desloca os valores dos pixels, aumentando a intensidade, e ajustando o contraste da imagem. \"Gain\" por padrão é 1; alterando esta variável, altera-se a curva log e os valores dos pixels.\n",
    "    \n",
    "4. **Exponencial da imagem**:\n",
    "    Assim como a função log, altera o contraste das imagens. A forma como ela é implementada, com a variável \"gamma\", é possível deixar a imagem mais clara (gamma < 1) ou mais escura (gamma > 1). Optamos por um gamma igual a 2. Output = Input\\*\\*2.\n",
    "    \n",
    "5. **Filtro da média implementado usando convolução**:\n",
    "    Aplicamos um filtro da média (kernel), por meio da função filter2D da biblioteca OpenCV que faz a convolução da imagem com o kernel. O filtro serve para suavizar a imagem, e dependendo do tamanho do kernel, a imagem fica com aparência embaçada."
   ]
  },
  {
   "cell_type": "code",
   "execution_count": 10,
   "id": "bea3ac62",
   "metadata": {},
   "outputs": [
    {
     "name": "stdout",
     "output_type": "stream",
     "text": [
      "/Users/gabimelo/Desktop/EP2/dataset/leite_2_noite_fora_palha_2.jpg\n",
      "leite_2_noite_fora_palha_2_gray\n",
      "leite_2_noite_fora_palha_2_gradient\n",
      "leite_2_noite_fora_palha_2_log\n",
      "leite_2_noite_fora_palha_2_gamma\n",
      "/Users/gabimelo/Desktop/EP2/dataset/tesoura_3_noite_dentro_verde_3.jpg\n",
      "tesoura_3_noite_dentro_verde_3_gray\n",
      "tesoura_3_noite_dentro_verde_3_gradient\n",
      "tesoura_3_noite_dentro_verde_3_log\n"
     ]
    },
    {
     "ename": "KeyboardInterrupt",
     "evalue": "",
     "output_type": "error",
     "traceback": [
      "\u001b[0;31m---------------------------------------------------------------------------\u001b[0m",
      "\u001b[0;31mKeyboardInterrupt\u001b[0m                         Traceback (most recent call last)",
      "\u001b[0;32m<ipython-input-10-ab83db49fe42>\u001b[0m in \u001b[0;36m<module>\u001b[0;34m\u001b[0m\n\u001b[1;32m     20\u001b[0m \u001b[0;34m\u001b[0m\u001b[0m\n\u001b[1;32m     21\u001b[0m         \u001b[0;31m# aplicar função\u001b[0m\u001b[0;34m\u001b[0m\u001b[0;34m\u001b[0m\u001b[0;34m\u001b[0m\u001b[0m\n\u001b[0;32m---> 22\u001b[0;31m         \u001b[0maug_img\u001b[0m \u001b[0;34m=\u001b[0m \u001b[0mf\u001b[0m\u001b[0;34m(\u001b[0m\u001b[0mcolor\u001b[0m\u001b[0;34m.\u001b[0m\u001b[0mrgb2gray\u001b[0m\u001b[0;34m(\u001b[0m\u001b[0mimg\u001b[0m\u001b[0;34m)\u001b[0m\u001b[0;34m)\u001b[0m\u001b[0;34m\u001b[0m\u001b[0;34m\u001b[0m\u001b[0m\n\u001b[0m\u001b[1;32m     23\u001b[0m \u001b[0;34m\u001b[0m\u001b[0m\n\u001b[1;32m     24\u001b[0m         \u001b[0;31m# definir novo nome da imagem\u001b[0m\u001b[0;34m\u001b[0m\u001b[0;34m\u001b[0m\u001b[0;34m\u001b[0m\u001b[0m\n",
      "\u001b[0;32m/opt/anaconda3/lib/python3.8/site-packages/skimage/color/colorconv.py\u001b[0m in \u001b[0;36mrgb2gray\u001b[0;34m(rgb)\u001b[0m\n\u001b[1;32m    807\u001b[0m         \u001b[0mrgb\u001b[0m \u001b[0;34m=\u001b[0m \u001b[0mrgb\u001b[0m\u001b[0;34m[\u001b[0m\u001b[0;34m...\u001b[0m\u001b[0;34m,\u001b[0m \u001b[0;34m:\u001b[0m\u001b[0;36m3\u001b[0m\u001b[0;34m]\u001b[0m\u001b[0;34m\u001b[0m\u001b[0;34m\u001b[0m\u001b[0m\n\u001b[1;32m    808\u001b[0m \u001b[0;34m\u001b[0m\u001b[0m\n\u001b[0;32m--> 809\u001b[0;31m     \u001b[0mrgb\u001b[0m \u001b[0;34m=\u001b[0m \u001b[0m_prepare_colorarray\u001b[0m\u001b[0;34m(\u001b[0m\u001b[0mrgb\u001b[0m\u001b[0;34m)\u001b[0m\u001b[0;34m\u001b[0m\u001b[0;34m\u001b[0m\u001b[0m\n\u001b[0m\u001b[1;32m    810\u001b[0m     \u001b[0mcoeffs\u001b[0m \u001b[0;34m=\u001b[0m \u001b[0mnp\u001b[0m\u001b[0;34m.\u001b[0m\u001b[0marray\u001b[0m\u001b[0;34m(\u001b[0m\u001b[0;34m[\u001b[0m\u001b[0;36m0.2125\u001b[0m\u001b[0;34m,\u001b[0m \u001b[0;36m0.7154\u001b[0m\u001b[0;34m,\u001b[0m \u001b[0;36m0.0721\u001b[0m\u001b[0;34m]\u001b[0m\u001b[0;34m,\u001b[0m \u001b[0mdtype\u001b[0m\u001b[0;34m=\u001b[0m\u001b[0mrgb\u001b[0m\u001b[0;34m.\u001b[0m\u001b[0mdtype\u001b[0m\u001b[0;34m)\u001b[0m\u001b[0;34m\u001b[0m\u001b[0;34m\u001b[0m\u001b[0m\n\u001b[1;32m    811\u001b[0m     \u001b[0;32mreturn\u001b[0m \u001b[0mrgb\u001b[0m \u001b[0;34m@\u001b[0m \u001b[0mcoeffs\u001b[0m\u001b[0;34m\u001b[0m\u001b[0;34m\u001b[0m\u001b[0m\n",
      "\u001b[0;32m/opt/anaconda3/lib/python3.8/site-packages/skimage/color/colorconv.py\u001b[0m in \u001b[0;36m_prepare_colorarray\u001b[0;34m(arr, force_copy)\u001b[0m\n\u001b[1;32m    151\u001b[0m                          f\"got {arr.shape}\")\n\u001b[1;32m    152\u001b[0m \u001b[0;34m\u001b[0m\u001b[0m\n\u001b[0;32m--> 153\u001b[0;31m     \u001b[0;32mreturn\u001b[0m \u001b[0mdtype\u001b[0m\u001b[0;34m.\u001b[0m\u001b[0mimg_as_float\u001b[0m\u001b[0;34m(\u001b[0m\u001b[0marr\u001b[0m\u001b[0;34m,\u001b[0m \u001b[0mforce_copy\u001b[0m\u001b[0;34m=\u001b[0m\u001b[0mforce_copy\u001b[0m\u001b[0;34m)\u001b[0m\u001b[0;34m\u001b[0m\u001b[0;34m\u001b[0m\u001b[0m\n\u001b[0m\u001b[1;32m    154\u001b[0m \u001b[0;34m\u001b[0m\u001b[0m\n\u001b[1;32m    155\u001b[0m \u001b[0;34m\u001b[0m\u001b[0m\n",
      "\u001b[0;32m/opt/anaconda3/lib/python3.8/site-packages/skimage/util/dtype.py\u001b[0m in \u001b[0;36mimg_as_float\u001b[0;34m(image, force_copy)\u001b[0m\n\u001b[1;32m    450\u001b[0m \u001b[0;34m\u001b[0m\u001b[0m\n\u001b[1;32m    451\u001b[0m     \"\"\"\n\u001b[0;32m--> 452\u001b[0;31m     \u001b[0;32mreturn\u001b[0m \u001b[0m_convert\u001b[0m\u001b[0;34m(\u001b[0m\u001b[0mimage\u001b[0m\u001b[0;34m,\u001b[0m \u001b[0mnp\u001b[0m\u001b[0;34m.\u001b[0m\u001b[0mfloating\u001b[0m\u001b[0;34m,\u001b[0m \u001b[0mforce_copy\u001b[0m\u001b[0;34m)\u001b[0m\u001b[0;34m\u001b[0m\u001b[0;34m\u001b[0m\u001b[0m\n\u001b[0m\u001b[1;32m    453\u001b[0m \u001b[0;34m\u001b[0m\u001b[0m\n\u001b[1;32m    454\u001b[0m \u001b[0;34m\u001b[0m\u001b[0m\n",
      "\u001b[0;32m/opt/anaconda3/lib/python3.8/site-packages/skimage/util/dtype.py\u001b[0m in \u001b[0;36m_convert\u001b[0;34m(image, dtype, force_copy, uniform)\u001b[0m\n\u001b[1;32m    311\u001b[0m             \u001b[0;31m# using np.divide or np.multiply doesn't copy the data\u001b[0m\u001b[0;34m\u001b[0m\u001b[0;34m\u001b[0m\u001b[0;34m\u001b[0m\u001b[0m\n\u001b[1;32m    312\u001b[0m             \u001b[0;31m# until the computation time\u001b[0m\u001b[0;34m\u001b[0m\u001b[0;34m\u001b[0m\u001b[0;34m\u001b[0m\u001b[0m\n\u001b[0;32m--> 313\u001b[0;31m             image = np.multiply(image, 1. / imax_in,\n\u001b[0m\u001b[1;32m    314\u001b[0m                                 dtype=computation_type)\n\u001b[1;32m    315\u001b[0m             \u001b[0;31m# DirectX uses this conversion also for signed ints\u001b[0m\u001b[0;34m\u001b[0m\u001b[0;34m\u001b[0m\u001b[0;34m\u001b[0m\u001b[0m\n",
      "\u001b[0;31mKeyboardInterrupt\u001b[0m: "
     ]
    }
   ],
   "source": [
    "for path in glob(\"/Users/gabimelo/Desktop/EP2/dataset/*.jpg\"):\n",
    "\n",
    "    print(path)\n",
    "    \n",
    "    # carregar imagem\n",
    "    img = io.imread(path)\n",
    "    \n",
    "    # aplicar função rgb2gray\n",
    "    gray_img = color.rgb2gray(img)   \n",
    "    \n",
    "    # definir novo nome da imagem cinza\n",
    "    old_name = path.split(\"/\")[-1].replace(\".jpg\",\"\")\n",
    "    gray_name = old_name + \"_\" + \"gray\"\n",
    "    print(gray_name)\n",
    "\n",
    "    # salvar imagem no dataset originalGrayDataset\n",
    "    np.save(\"/Users/gabimelo/Desktop/EP2/originalGrayDataset/\" + gray_name, gray_img)\n",
    "        \n",
    "    for f_name, f in func_dict.items():\n",
    "\n",
    "        # aplicar função\n",
    "        aug_img = f(color.rgb2gray(img))\n",
    "\n",
    "        # definir novo nome da imagem\n",
    "        old_name = path.split(\"/\")[-1].replace(\".jpg\",\"\")\n",
    "        aug_name = old_name + \"_\" + f_name\n",
    "        print(aug_name)\n",
    "        \n",
    "        # salvar imagem no dataset augmentedDataset\n",
    "        np.save(\"/Users/gabimelo/Desktop/EP2/augmentedDataset/\" + aug_name, aug_img)"
   ]
  },
  {
   "cell_type": "code",
   "execution_count": null,
   "id": "f4ce4855",
   "metadata": {},
   "outputs": [],
   "source": []
  }
 ],
 "metadata": {
  "hide_input": false,
  "kernelspec": {
   "display_name": "Python 3",
   "language": "python",
   "name": "python3"
  },
  "language_info": {
   "codemirror_mode": {
    "name": "ipython",
    "version": 3
   },
   "file_extension": ".py",
   "mimetype": "text/x-python",
   "name": "python",
   "nbconvert_exporter": "python",
   "pygments_lexer": "ipython3",
   "version": "3.8.8"
  }
 },
 "nbformat": 4,
 "nbformat_minor": 5
}
